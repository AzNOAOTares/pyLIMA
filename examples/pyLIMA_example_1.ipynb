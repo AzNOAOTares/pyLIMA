{
 "cells": [
  {
   "cell_type": "markdown",
   "metadata": {
    "collapsed": false
   },
   "source": [
    "# Welcome to pyLIMA tutorial! #\n",
    "Let's learn how pyLIMA works by fitting an example.\n",
    "\n",
    "Please help yourself with the [pyLIMA documentation](file/../../doc/build/html/index.html)\n"
   ]
  },
  {
   "cell_type": "code",
   "execution_count": 1,
   "metadata": {
    "collapsed": false
   },
   "outputs": [],
   "source": [
    "### First import the required libraries\n",
    "\n",
    "import numpy as np\n",
    "import matplotlib.pyplot as plt\n",
    "import os, sys\n",
    "lib_path = os.path.abspath(os.path.join('../'))\n",
    "sys.path.append(lib_path)\n",
    "\n",
    "from pyLIMA import event\n",
    "from pyLIMA import telescopes\n",
    "from pyLIMA import microlmodels"
   ]
  },
  {
   "cell_type": "markdown",
   "metadata": {},
   "source": [
    "Nothing wrong? \n",
    "Let's go ahead."
   ]
  },
  {
   "cell_type": "markdown",
   "metadata": {},
   "source": [
    "# The event module #\n",
    "We have to define an [event](file/../../doc/build/html/pyLIMA.event.html) object."
   ]
  },
  {
   "cell_type": "code",
   "execution_count": 3,
   "metadata": {
    "collapsed": false
   },
   "outputs": [],
   "source": [
    "### Create an event object. You can choose the name and RA,DEC in degrees :\n",
    "\n",
    "your_event = event.Event()\n",
    "your_event.name = 'your choice'\n",
    "your_event.ra = 269.39166666666665 \n",
    "your_event.dec = -29.22083333333333"
   ]
  },
  {
   "cell_type": "markdown",
   "metadata": {},
   "source": [
    "# The telescopes module#\n",
    "To insert data to your event, we need to define  [telescopes](file/../../doc/build/html/pyLIMA.telescopes.html) objects and just add it\n",
    "to the event object telescope list."
   ]
  },
  {
   "cell_type": "code",
   "execution_count": 4,
   "metadata": {
    "collapsed": false
   },
   "outputs": [
    {
     "name": "stdout",
     "output_type": "stream",
     "text": [
      "Everything is fine, this event can be treat\n"
     ]
    }
   ],
   "source": [
    "### Now we need some observations. That's good, we obtain some data on two\n",
    "### telescopes. Both are in I band and magnitude units :\n",
    "\n",
    "data_1 = np.loadtxt('./Survey_1.dat')\n",
    "telescope_1 = telescopes.Telescope(name='OGLE', camera_filter='I', light_curve_magnitude=data_1)\n",
    "\n",
    "data_2 = np.loadtxt('./Followup_1.dat')\n",
    "telescope_2 = telescopes.Telescope(name='LCOGT', camera_filter='I', light_curve_magnitude=data_2)\n",
    "\n",
    "### Add the telescopes to your event :\n",
    "your_event.telescopes.append(telescope_1)\n",
    "your_event.telescopes.append(telescope_2)\n",
    "\n",
    "### Find the survey telescope :\n",
    "your_event.find_survey('OGLE')\n",
    "\n",
    "### Sanity check\n",
    "your_event.check_event()"
   ]
  },
  {
   "cell_type": "markdown",
   "metadata": {},
   "source": [
    "# The model module #\n",
    "We have now to define a [model](file/../../doc/build/html/pyLIMA.microlmodels.html) object that summarizes what kind of model you want to fit.\n",
    "Let's start with a basic PSPL."
   ]
  },
  {
   "cell_type": "code",
   "execution_count": 5,
   "metadata": {
    "collapsed": false,
    "scrolled": true
   },
   "outputs": [],
   "source": [
    "### Construct the model you want to fit. Let's go basic with a PSPL, without second_order effects :\n",
    "model_1 = microlmodels.MLModels(your_event, 'PSPL')\n"
   ]
  },
  {
   "cell_type": "markdown",
   "metadata": {},
   "source": [
    "# We are all set now. Just fit by choosing one method #\n",
    "For a summary of fitting options, please go [there](file/../../doc/build/html/pyLIMA.microlfits.html)"
   ]
  },
  {
   "cell_type": "code",
   "execution_count": 6,
   "metadata": {
    "collapsed": false
   },
   "outputs": [
    {
     "name": "stdout",
     "output_type": "stream",
     "text": [
      "Everything is fine, this event can be treat\n",
      "Chi2_LM : 8440.16950162\n"
     ]
    }
   ],
   "source": [
    "### Let's try with the simplest Levenvberg_Marquardt algorithm :\n",
    "your_event.fit(model_1,'LM')\n",
    "\n",
    "### Let's see some plots.\n",
    "your_event.fits[0].produce_outputs()\n",
    "print 'Chi2_LM :',your_event.fits[0].outputs.fit_parameters.chichi\n",
    "plt.show()"
   ]
  },
  {
   "cell_type": "markdown",
   "metadata": {},
   "source": [
    "There is some residuals close to the peak, right? And the Chi2 is high also. Maybe the LM algorithm performs poorly, let's try something more powerfull.\n",
    "\n",
    "You can zoom close to the peak to see what is going on. CLOSE THE FIGURE TO CONTINUE."
   ]
  },
  {
   "cell_type": "code",
   "execution_count": 7,
   "metadata": {
    "collapsed": false
   },
   "outputs": [
    {
     "name": "stdout",
     "output_type": "stream",
     "text": [
      "Everything is fine, this event can be treat\n",
      "differential_evolution step 1: f(x)= 1.64988e+06\n",
      "differential_evolution step 2: f(x)= 1.35399e+06\n",
      "differential_evolution step 3: f(x)= 1.02187e+06\n",
      "differential_evolution step 4: f(x)= 982896\n",
      "differential_evolution step 5: f(x)= 982896\n",
      "differential_evolution step 6: f(x)= 711246\n",
      "differential_evolution step 7: f(x)= 664999\n",
      "differential_evolution step 8: f(x)= 664999\n",
      "differential_evolution step 9: f(x)= 531728\n",
      "differential_evolution step 10: f(x)= 422478\n",
      "differential_evolution step 11: f(x)= 379986\n",
      "differential_evolution step 12: f(x)= 375488\n",
      "differential_evolution step 13: f(x)= 332806\n",
      "differential_evolution step 14: f(x)= 113454\n",
      "differential_evolution step 15: f(x)= 113454\n",
      "differential_evolution step 16: f(x)= 47194.1\n",
      "differential_evolution step 17: f(x)= 46499.3\n",
      "differential_evolution step 18: f(x)= 46499.3\n",
      "differential_evolution step 19: f(x)= 42141.7\n",
      "differential_evolution step 20: f(x)= 13702\n",
      "differential_evolution step 21: f(x)= 13702\n",
      "differential_evolution step 22: f(x)= 12614.4\n",
      "differential_evolution step 23: f(x)= 11468.4\n",
      "differential_evolution step 24: f(x)= 10842.7\n",
      "differential_evolution step 25: f(x)= 8732.33\n",
      "differential_evolution step 26: f(x)= 8732.33\n",
      "differential_evolution step 27: f(x)= 8651.14\n",
      "differential_evolution step 28: f(x)= 8651.14\n",
      "differential_evolution step 29: f(x)= 8625.61\n",
      "differential_evolution step 30: f(x)= 8512.26\n",
      "differential_evolution step 31: f(x)= 8512.26\n",
      "differential_evolution step 32: f(x)= 8512.26\n",
      "differential_evolution step 33: f(x)= 8484.57\n",
      "differential_evolution step 34: f(x)= 8469.9\n",
      "differential_evolution step 35: f(x)= 8442.34\n",
      "differential_evolution step 36: f(x)= 8442.34\n",
      "differential_evolution step 37: f(x)= 8442.34\n",
      "differential_evolution step 38: f(x)= 8442.34\n",
      "differential_evolution step 39: f(x)= 8441.74\n",
      "differential_evolution step 40: f(x)= 8440.4\n",
      "differential_evolution step 41: f(x)= 8440.29\n",
      "differential_evolution step 42: f(x)= 8440.21\n",
      "differential_evolution step 43: f(x)= 8440.21\n",
      "differential_evolution step 44: f(x)= 8440.2\n",
      "differential_evolution step 45: f(x)= 8440.19\n",
      "differential_evolution step 46: f(x)= 8440.18\n",
      "differential_evolution step 47: f(x)= 8440.17\n",
      "differential_evolution step 48: f(x)= 8440.17\n",
      "differential_evolution step 49: f(x)= 8440.17\n",
      "differential_evolution step 50: f(x)= 8440.17\n",
      "differential_evolution step 51: f(x)= 8440.17\n",
      "differential_evolution step 52: f(x)= 8440.17\n",
      "Chi2_DE : 8440.16949576\n"
     ]
    }
   ],
   "source": [
    "### Let's try with differential evolution  algorithm. WAIT UNTIL THE FIGURE POP UP.\n",
    "your_event.fit(model_1,'DE')\n",
    "your_event.fits[1].produce_outputs()\n",
    "print 'Chi2_DE :',your_event.fits[1].outputs.fit_parameters.chichi\n",
    "plt.show()\n"
   ]
  },
  {
   "cell_type": "markdown",
   "metadata": {
    "collapsed": true
   },
   "source": [
    "Well, that's not really better. Maybe there is some other effects in the model?\n",
    "Let's try an FSPL model!\n",
    "\n",
    "\n",
    "You can zoom close to the peak to see what is going on. CLOSE THE FIGURE TO CONTINUE."
   ]
  },
  {
   "cell_type": "code",
   "execution_count": 8,
   "metadata": {
    "collapsed": false
   },
   "outputs": [
    {
     "name": "stdout",
     "output_type": "stream",
     "text": [
      "Everything is fine, this event can be treat\n",
      "Chi2_LM : 3961.15720749\n"
     ]
    }
   ],
   "source": [
    "### Let's go basic for FSPL :\n",
    "model_2 = microlmodels.MLModels(your_event, 'FSPL')\n",
    "your_event.fit(model_2,'LM')\n",
    "\n",
    "### Let's see some plots. You can zoom close to the peak to see what is going on. CLOSE THE FIGURE TO CONTINUE.\n",
    "your_event.fits[-1].produce_outputs()\n",
    "print 'Chi2_LM :',your_event.fits[-1].outputs.fit_parameters.chichi\n",
    "plt.show()\n"
   ]
  },
  {
   "cell_type": "markdown",
   "metadata": {},
   "source": [
    "That's better, but there is still some deviations around 80.1 days. Any ideas?\n",
    "\n",
    "...\n",
    "\n",
    "...\n",
    "\n",
    "...\n",
    "\n",
    "What about some limb-darkening effects? Let's try this"
   ]
  },
  {
   "cell_type": "code",
   "execution_count": 9,
   "metadata": {
    "collapsed": false,
    "scrolled": true
   },
   "outputs": [
    {
     "name": "stdout",
     "output_type": "stream",
     "text": [
      "Everything is fine, this event can be treat\n",
      "Chi2_LM : 8439.93179569\n"
     ]
    }
   ],
   "source": [
    "### set gamma for each telescopes :\n",
    "\n",
    "your_event.telescopes[0].gamma = 0.5\n",
    "your_event.telescopes[1].gamma = 0.5\n",
    "\n",
    "### Fit again\n",
    "your_event.fit(model_2,'LM')\n",
    "\n",
    "your_event.fits[-1].produce_outputs()\n",
    "print 'Chi2_LM :',your_event.fits[-1].outputs.fit_parameters.chichi\n",
    "plt.show()"
   ]
  },
  {
   "cell_type": "markdown",
   "metadata": {},
   "source": [
    "Wrong back! What is going on here? Maybe the LM method is confused by the limb-darkening coefficients? Let's try something else."
   ]
  },
  {
   "cell_type": "code",
   "execution_count": 10,
   "metadata": {
    "collapsed": false
   },
   "outputs": [
    {
     "name": "stdout",
     "output_type": "stream",
     "text": [
      "Everything is fine, this event can be treat\n",
      "differential_evolution step 1: f(x)= 1.66744e+06\n",
      "differential_evolution step 2: f(x)= 1.03184e+06\n",
      "differential_evolution step 3: f(x)= 760044\n",
      "differential_evolution step 4: f(x)= 760044\n",
      "differential_evolution step 5: f(x)= 760044\n",
      "differential_evolution step 6: f(x)= 760044\n",
      "differential_evolution step 7: f(x)= 461713\n",
      "differential_evolution step 8: f(x)= 461713\n",
      "differential_evolution step 9: f(x)= 206757\n",
      "differential_evolution step 10: f(x)= 206757\n",
      "differential_evolution step 11: f(x)= 206757\n",
      "differential_evolution step 12: f(x)= 160263\n",
      "differential_evolution step 13: f(x)= 160263\n",
      "differential_evolution step 14: f(x)= 101430\n",
      "differential_evolution step 15: f(x)= 101430\n",
      "differential_evolution step 16: f(x)= 90165.9\n",
      "differential_evolution step 17: f(x)= 80304.4\n",
      "differential_evolution step 18: f(x)= 43554.3\n",
      "differential_evolution step 19: f(x)= 29654.4\n",
      "differential_evolution step 20: f(x)= 20157.4\n",
      "differential_evolution step 21: f(x)= 4695.16\n",
      "differential_evolution step 22: f(x)= 4428.78\n",
      "differential_evolution step 23: f(x)= 4428.78\n",
      "differential_evolution step 24: f(x)= 4428.78\n",
      "differential_evolution step 25: f(x)= 4428.78\n",
      "differential_evolution step 26: f(x)= 4428.78\n",
      "differential_evolution step 27: f(x)= 4236.83\n",
      "differential_evolution step 28: f(x)= 4057.78\n",
      "differential_evolution step 29: f(x)= 4057.78\n",
      "differential_evolution step 30: f(x)= 4057.78\n",
      "differential_evolution step 31: f(x)= 4057.78\n",
      "differential_evolution step 32: f(x)= 4034.02\n",
      "differential_evolution step 33: f(x)= 4032.58\n",
      "differential_evolution step 34: f(x)= 4032.58\n",
      "differential_evolution step 35: f(x)= 3945.52\n",
      "differential_evolution step 36: f(x)= 3878.78\n",
      "differential_evolution step 37: f(x)= 3878.54\n",
      "differential_evolution step 38: f(x)= 3875.77\n",
      "differential_evolution step 39: f(x)= 3865.53\n",
      "differential_evolution step 40: f(x)= 3858.77\n",
      "differential_evolution step 41: f(x)= 3854.97\n",
      "differential_evolution step 42: f(x)= 3854.97\n",
      "differential_evolution step 43: f(x)= 3852.41\n",
      "differential_evolution step 44: f(x)= 3852.41\n",
      "differential_evolution step 45: f(x)= 3851.37\n",
      "differential_evolution step 46: f(x)= 3851.37\n",
      "differential_evolution step 47: f(x)= 3851.37\n",
      "differential_evolution step 48: f(x)= 3851.37\n",
      "differential_evolution step 49: f(x)= 3851.37\n",
      "differential_evolution step 50: f(x)= 3851.37\n",
      "differential_evolution step 51: f(x)= 3851.35\n",
      "differential_evolution step 52: f(x)= 3851.35\n",
      "differential_evolution step 53: f(x)= 3851.16\n",
      "differential_evolution step 54: f(x)= 3851.09\n",
      "differential_evolution step 55: f(x)= 3851.09\n",
      "differential_evolution step 56: f(x)= 3851.08\n",
      "differential_evolution step 57: f(x)= 3851.08\n",
      "differential_evolution step 58: f(x)= 3851.08\n",
      "differential_evolution step 59: f(x)= 3851.06\n",
      "differential_evolution step 60: f(x)= 3851.06\n",
      "differential_evolution step 61: f(x)= 3851.06\n",
      "differential_evolution step 62: f(x)= 3851.06\n",
      "differential_evolution step 63: f(x)= 3851.06\n",
      "differential_evolution step 64: f(x)= 3851.06\n",
      "differential_evolution step 65: f(x)= 3851.06\n",
      "differential_evolution step 66: f(x)= 3851.06\n",
      "differential_evolution step 67: f(x)= 3851.06\n",
      "differential_evolution step 68: f(x)= 3851.06\n",
      "differential_evolution step 69: f(x)= 3851.06\n",
      "differential_evolution step 70: f(x)= 3851.06\n",
      "differential_evolution step 71: f(x)= 3851.06\n",
      "differential_evolution step 72: f(x)= 3851.06\n",
      "Chi2_DE : 3851.05514197\n"
     ]
    }
   ],
   "source": [
    "### Fit again\n",
    "your_event.fit(model_2,'DE')\n",
    "\n",
    "your_event.fits[-1].produce_outputs()\n",
    "print 'Chi2_DE :',your_event.fits[-1].outputs.fit_parameters.chichi\n",
    "plt.show()"
   ]
  },
  {
   "cell_type": "markdown",
   "metadata": {},
   "source": [
    "Here we go! \n",
    "\n",
    "\n",
    "You can zoom close to the peak to see what is going on. CLOSE THE FIGURE TO CONTINUE.\n",
    "\n",
    "Let's compare the fitting values with the injected model :"
   ]
  },
  {
   "cell_type": "code",
   "execution_count": 11,
   "metadata": {
    "collapsed": false
   },
   "outputs": [
    {
     "name": "stdout",
     "output_type": "stream",
     "text": [
      "Parameters  Model    Fit      Errors\n",
      "-----------------------------------\n",
      "t_o         79.9309  79.9309  0.00084\n",
      "u_o         0.00826  -0.0081  0.00026\n",
      "t_E         10.1171  10.1108  0.03924\n",
      "rho         0.02268  0.02259  0.00012\n",
      "fs_OGLE     2915.76  2917.59  14.6804\n",
      "g_OGLE      0.07195  0.07139  0.00526\n",
      "fs_LCOGT    92936.7  92635.4  619.903\n",
      "g_LCOGT     0.52460  0.53128  0.05117\n"
     ]
    }
   ],
   "source": [
    "print 'Parameters', ' Model','   Fit','     Errors'\n",
    "print '-----------------------------------'\n",
    "print 't_o', '        79.9309 ',str(your_event.fits[-1].outputs.fit_parameters.to)[:7],'',str(your_event.fits[-1].outputs.fit_errors.err_to)[:7] \n",
    "print 'u_o', '        0.00826 ',str(your_event.fits[-1].outputs.fit_parameters.uo)[:7],'',str(your_event.fits[-1].outputs.fit_errors.err_uo)[:7]\n",
    "print 't_E', '        10.1171 ',str(your_event.fits[-1].outputs.fit_parameters.tE)[:7],'',str(your_event.fits[-1].outputs.fit_errors.err_tE)[:7]\n",
    "print 'rho', '        0.02268 ',str(your_event.fits[-1].outputs.fit_parameters.rho)[:7],'',str(your_event.fits[-1].outputs.fit_errors.err_rho)[:7]\n",
    "print 'fs_OGLE', '    2915.76 ',str(your_event.fits[-1].outputs.fit_parameters.fs_OGLE)[:7],'',str(your_event.fits[-1].outputs.fit_errors.err_fs_OGLE)[:7]\n",
    "print 'g_OGLE', '     0.07195 ',str(your_event.fits[-1].outputs.fit_parameters.g_OGLE)[:7],'',str(your_event.fits[-1].outputs.fit_errors.err_g_OGLE)[:7]\n",
    "print 'fs_LCOGT', '   92936.7 ',str(your_event.fits[-1].outputs.fit_parameters.fs_LCOGT)[:7],'',str(your_event.fits[-1].outputs.fit_errors.err_fs_LCOGT)[:7]\n",
    "print 'g_LCOGT', '    0.52460 ',str(your_event.fits[-1].outputs.fit_parameters.g_LCOGT)[:7],'',str(your_event.fits[-1].outputs.fit_errors.err_g_LCOGT)[:7]\n",
    "\n",
    "\n",
    "\n"
   ]
  },
  {
   "cell_type": "markdown",
   "metadata": {},
   "source": [
    "# Bonus Track #\n",
    "What about some MCMC?"
   ]
  },
  {
   "cell_type": "code",
   "execution_count": 12,
   "metadata": {
    "collapsed": false
   },
   "outputs": [
    {
     "name": "stdout",
     "output_type": "stream",
     "text": [
      "Everything is fine, this event can be treat\n",
      "pre MCMC done\n",
      "MCMC preburn done\n"
     ]
    },
    {
     "name": "stderr",
     "output_type": "stream",
     "text": [
      "/usr/bin/anaconda/lib/python2.7/site-packages/numpy/lib/polynomial.py:594: RankWarning: Polyfit may be poorly conditioned\n",
      "  warnings.warn(msg, RankWarning)\n"
     ]
    },
    {
     "name": "stdout",
     "output_type": "stream",
     "text": [
      "The fitting process is finished now, let produce some outputs....\n"
     ]
    }
   ],
   "source": [
    "### Fit again, but using MCMC now. TAKE A WHILE....Wait until figures pop up.\n",
    "your_event.fit(model_2,'MCMC')\n",
    "print 'The fitting process is finished now, let produce some outputs....'\n",
    "\n",
    "your_event.fits[-1].produce_outputs()\n",
    "\n",
    "plt.show()"
   ]
  },
  {
   "cell_type": "code",
   "execution_count": null,
   "metadata": {
    "collapsed": true
   },
   "outputs": [],
   "source": []
  }
 ],
 "metadata": {
  "celltoolbar": "Edit Metadata",
  "kernelspec": {
   "display_name": "Python 2",
   "language": "python",
   "name": "python2"
  },
  "language_info": {
   "codemirror_mode": {
    "name": "ipython",
    "version": 2
   },
   "file_extension": ".py",
   "mimetype": "text/x-python",
   "name": "python",
   "nbconvert_exporter": "python",
   "pygments_lexer": "ipython2",
   "version": "2.7.11"
  }
 },
 "nbformat": 4,
 "nbformat_minor": 0
}
