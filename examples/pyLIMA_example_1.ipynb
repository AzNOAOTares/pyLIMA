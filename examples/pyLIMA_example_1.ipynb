{
 "cells": [
  {
   "cell_type": "markdown",
   "metadata": {
    "collapsed": false
   },
   "source": [
    "# Welcome to pyLIMA tutorial! #\n",
    "Let's learn how pyLIMA works by fitting an example.\n",
    "\n",
    "Please help yourself with the [pyLIMA documentation](file/../../doc/build/html/index.html)\n"
   ]
  },
  {
   "cell_type": "code",
   "execution_count": 1,
   "metadata": {
    "collapsed": false
   },
   "outputs": [],
   "source": [
    "### First import the required libraries\n",
    "\n",
    "import numpy as np\n",
    "import matplotlib.pyplot as plt\n",
    "import os, sys\n",
    "lib_path = os.path.abspath(os.path.join('../'))\n",
    "sys.path.append(lib_path)\n",
    "\n",
    "from pyLIMA import event\n",
    "from pyLIMA import telescopes\n",
    "from pyLIMA import microlmodels"
   ]
  },
  {
   "cell_type": "markdown",
   "metadata": {},
   "source": [
    "Nothing wrong? \n",
    "Let's go ahead."
   ]
  },
  {
   "cell_type": "markdown",
   "metadata": {},
   "source": [
    "# The event module #\n",
    "We have to define an [event](file/../../doc/build/html/pyLIMA.event.html) object."
   ]
  },
  {
   "cell_type": "code",
   "execution_count": 2,
   "metadata": {
    "collapsed": false
   },
   "outputs": [],
   "source": [
    "### Create an event object. You can choose the name and RA,DEC in degrees :\n",
    "\n",
    "your_event = event.Event()\n",
    "your_event.name = 'your choice'\n",
    "your_event.ra = 269.39166666666665 \n",
    "your_event.dec = -29.22083333333333"
   ]
  },
  {
   "cell_type": "markdown",
   "metadata": {},
   "source": [
    "# The telescopes module#\n",
    "To insert data to your event, we need to define  [telescopes](file/../../doc/build/html/pyLIMA.telescopes.html) objects and just add it\n",
    "to the event object telescope list."
   ]
  },
  {
   "cell_type": "code",
   "execution_count": 3,
   "metadata": {
    "collapsed": false
   },
   "outputs": [
    {
     "name": "stdout",
     "output_type": "stream",
     "text": [
      "Everything is fine, this event can be treat\n"
     ]
    }
   ],
   "source": [
    "### Now we need some observations. That's good, we obtain some data on two\n",
    "### telescopes. Both are in I band and magnitude units :\n",
    "\n",
    "data_1 = np.loadtxt('./Survey_1.dat')\n",
    "telescope_1 = telescopes.Telescope(name='OGLE', camera_filter='I', light_curve_magnitude=data_1)\n",
    "\n",
    "data_2 = np.loadtxt('./Followup_1.dat')\n",
    "telescope_2 = telescopes.Telescope(name='LCOGT', camera_filter='I', light_curve_magnitude=data_2)\n",
    "\n",
    "### Add the telescopes to your event :\n",
    "your_event.telescopes.append(telescope_1)\n",
    "your_event.telescopes.append(telescope_2)\n",
    "\n",
    "### Find the survey telescope :\n",
    "your_event.find_survey('OGLE')\n",
    "\n",
    "### Sanity check\n",
    "your_event.check_event()"
   ]
  },
  {
   "cell_type": "markdown",
   "metadata": {},
   "source": [
    "# The model module #\n",
    "We have now to define a [model](file/../../doc/build/html/pyLIMA.microlmodels.html) object that summarizes what kind of model you want to fit.\n",
    "Let's start with a basic PSPL."
   ]
  },
  {
   "cell_type": "code",
   "execution_count": 4,
   "metadata": {
    "collapsed": false,
    "scrolled": true
   },
   "outputs": [],
   "source": [
    "### Construct the model you want to fit. Let's go basic with a PSPL, without second_order effects :\n",
    "model_1 = microlmodels.MLModels(your_event, 'PSPL')\n"
   ]
  },
  {
   "cell_type": "markdown",
   "metadata": {},
   "source": [
    "# We are all set now. Just fit by choosing one method #\n",
    "For a summary of fitting options, please go [there](file/../../doc/build/html/pyLIMA.microlfits.html)"
   ]
  },
  {
   "cell_type": "code",
   "execution_count": 5,
   "metadata": {
    "collapsed": false
   },
   "outputs": [
    {
     "name": "stdout",
     "output_type": "stream",
     "text": [
      "Everything is fine, this event can be treat\n",
      "Chi2_LM : 8440.16950162\n"
     ]
    }
   ],
   "source": [
    "### Let's try with the simplest Levenvberg_Marquardt algorithm :\n",
    "your_event.fit(model_1,'LM')\n",
    "\n",
    "### Let's see some plots.\n",
    "your_event.fits[0].produce_outputs()\n",
    "print 'Chi2_LM :',your_event.fits[0].outputs.fit_parameters.chichi\n",
    "plt.show()"
   ]
  },
  {
   "cell_type": "markdown",
   "metadata": {},
   "source": [
    "There is some residuals close to the peak, right? And the Chi2 is high also. Maybe the LM algorithm performs poorly, let's try something more powerfull.\n",
    "\n",
    "You can zoom close to the peak to see what is going on. CLOSE THE FIGURE TO CONTINUE."
   ]
  },
  {
   "cell_type": "code",
   "execution_count": 6,
   "metadata": {
    "collapsed": false
   },
   "outputs": [
    {
     "name": "stdout",
     "output_type": "stream",
     "text": [
      "Everything is fine, this event can be treat\n",
      "differential_evolution step 1: f(x)= 1.70044e+06\n"
     ]
    },
    {
     "name": "stderr",
     "output_type": "stream",
     "text": [
      "/usr/bin/anaconda/lib/python2.7/site-packages/numpy/core/_methods.py:101: RuntimeWarning: invalid value encountered in subtract\n",
      "  x = asanyarray(arr - arrmean)\n"
     ]
    },
    {
     "name": "stdout",
     "output_type": "stream",
     "text": [
      "differential_evolution step 2: f(x)= 1.70044e+06\n",
      "differential_evolution step 3: f(x)= 1.62719e+06\n",
      "differential_evolution step 4: f(x)= 1.62719e+06\n",
      "differential_evolution step 5: f(x)= 1.23737e+06\n",
      "differential_evolution step 6: f(x)= 1.23737e+06\n",
      "differential_evolution step 7: f(x)= 1.23737e+06\n",
      "differential_evolution step 8: f(x)= 1.23737e+06\n",
      "differential_evolution step 9: f(x)= 1.09059e+06\n",
      "differential_evolution step 10: f(x)= 474263\n",
      "differential_evolution step 11: f(x)= 474263\n",
      "differential_evolution step 12: f(x)= 455807\n",
      "differential_evolution step 13: f(x)= 455807\n",
      "differential_evolution step 14: f(x)= 455807\n",
      "differential_evolution step 15: f(x)= 302578\n",
      "differential_evolution step 16: f(x)= 302578\n",
      "differential_evolution step 17: f(x)= 261273\n",
      "differential_evolution step 18: f(x)= 197160\n",
      "differential_evolution step 19: f(x)= 197160\n",
      "differential_evolution step 20: f(x)= 87545.2\n",
      "differential_evolution step 21: f(x)= 87545.2\n",
      "differential_evolution step 22: f(x)= 25040.3\n",
      "differential_evolution step 23: f(x)= 25040.3\n",
      "differential_evolution step 24: f(x)= 25040.3\n",
      "differential_evolution step 25: f(x)= 25040.3\n",
      "differential_evolution step 26: f(x)= 12060.6\n",
      "differential_evolution step 27: f(x)= 12060.6\n",
      "differential_evolution step 28: f(x)= 9875.21\n",
      "differential_evolution step 29: f(x)= 9875.21\n",
      "differential_evolution step 30: f(x)= 9875.21\n",
      "differential_evolution step 31: f(x)= 9875.21\n",
      "differential_evolution step 32: f(x)= 8559.8\n",
      "differential_evolution step 33: f(x)= 8559.8\n",
      "differential_evolution step 34: f(x)= 8559.8\n",
      "differential_evolution step 35: f(x)= 8443.76\n",
      "differential_evolution step 36: f(x)= 8443.76\n",
      "differential_evolution step 37: f(x)= 8443.76\n",
      "differential_evolution step 38: f(x)= 8443.76\n",
      "differential_evolution step 39: f(x)= 8440.7\n",
      "differential_evolution step 40: f(x)= 8440.7\n",
      "differential_evolution step 41: f(x)= 8440.7\n",
      "differential_evolution step 42: f(x)= 8440.42\n",
      "differential_evolution step 43: f(x)= 8440.31\n",
      "differential_evolution step 44: f(x)= 8440.31\n",
      "differential_evolution step 45: f(x)= 8440.31\n",
      "differential_evolution step 46: f(x)= 8440.31\n",
      "differential_evolution step 47: f(x)= 8440.17\n",
      "differential_evolution step 48: f(x)= 8440.17\n",
      "differential_evolution step 49: f(x)= 8440.17\n",
      "differential_evolution step 50: f(x)= 8440.17\n",
      "differential_evolution step 51: f(x)= 8440.17\n",
      "differential_evolution step 52: f(x)= 8440.17\n",
      "differential_evolution step 53: f(x)= 8440.17\n",
      "differential_evolution step 54: f(x)= 8440.17\n",
      "differential_evolution step 55: f(x)= 8440.17\n",
      "Chi2_DE : 8440.1694961\n"
     ]
    }
   ],
   "source": [
    "### Let's try with differential evolution  algorithm. WAIT UNTIL THE FIGURE POP UP.\n",
    "your_event.fit(model_1,'DE')\n",
    "your_event.fits[1].produce_outputs()\n",
    "print 'Chi2_DE :',your_event.fits[1].outputs.fit_parameters.chichi\n",
    "plt.show()\n"
   ]
  },
  {
   "cell_type": "markdown",
   "metadata": {
    "collapsed": true
   },
   "source": [
    "Well, that's not really better. Maybe there is some other effects in the model?\n",
    "Let's try an FSPL model!\n",
    "\n",
    "\n",
    "You can zoom close to the peak to see what is going on. CLOSE THE FIGURE TO CONTINUE."
   ]
  },
  {
   "cell_type": "code",
   "execution_count": 7,
   "metadata": {
    "collapsed": false
   },
   "outputs": [
    {
     "name": "stdout",
     "output_type": "stream",
     "text": [
      "Everything is fine, this event can be treat\n",
      "Chi2_LM : 3961.15720749\n"
     ]
    }
   ],
   "source": [
    "### Let's go basic for FSPL :\n",
    "model_2 = microlmodels.MLModels(your_event, 'FSPL')\n",
    "your_event.fit(model_2,'LM')\n",
    "\n",
    "### Let's see some plots. You can zoom close to the peak to see what is going on. CLOSE THE FIGURE TO CONTINUE.\n",
    "your_event.fits[-1].produce_outputs()\n",
    "print 'Chi2_LM :',your_event.fits[-1].outputs.fit_parameters.chichi\n",
    "plt.show()\n"
   ]
  },
  {
   "cell_type": "markdown",
   "metadata": {},
   "source": [
    "That's better, but there is still some deviations around 80.1 days. Any ideas?\n",
    "\n",
    "...\n",
    "\n",
    "...\n",
    "\n",
    "...\n",
    "\n",
    "What about some limb-darkening effects? Let's try this"
   ]
  },
  {
   "cell_type": "code",
   "execution_count": 8,
   "metadata": {
    "collapsed": false,
    "scrolled": true
   },
   "outputs": [
    {
     "name": "stdout",
     "output_type": "stream",
     "text": [
      "Everything is fine, this event can be treat\n",
      "Chi2_LM : 8439.93179569\n"
     ]
    }
   ],
   "source": [
    "### set gamma for each telescopes :\n",
    "\n",
    "your_event.telescopes[0].gamma = 0.5\n",
    "your_event.telescopes[1].gamma = 0.5\n",
    "\n",
    "### Fit again\n",
    "your_event.fit(model_2,'LM')\n",
    "\n",
    "your_event.fits[-1].produce_outputs()\n",
    "print 'Chi2_LM :',your_event.fits[-1].outputs.fit_parameters.chichi\n",
    "plt.show()"
   ]
  },
  {
   "cell_type": "markdown",
   "metadata": {},
   "source": [
    "Wrong back! What is going on here? Maybe the LM method is confused by the limb-darkening coefficients? Let's try something else."
   ]
  },
  {
   "cell_type": "code",
   "execution_count": 9,
   "metadata": {
    "collapsed": false
   },
   "outputs": [
    {
     "name": "stdout",
     "output_type": "stream",
     "text": [
      "Everything is fine, this event can be treat\n",
      "differential_evolution step 1: f(x)= 1.50711e+06\n",
      "differential_evolution step 2: f(x)= 1.50711e+06\n",
      "differential_evolution step 3: f(x)= 1.50711e+06\n",
      "differential_evolution step 4: f(x)= 1.43823e+06\n",
      "differential_evolution step 5: f(x)= 1.00419e+06\n",
      "differential_evolution step 6: f(x)= 1.00419e+06\n",
      "differential_evolution step 7: f(x)= 1.00229e+06\n",
      "differential_evolution step 8: f(x)= 413752\n",
      "differential_evolution step 9: f(x)= 413752\n",
      "differential_evolution step 10: f(x)= 413752\n",
      "differential_evolution step 11: f(x)= 413752\n",
      "differential_evolution step 12: f(x)= 413752\n",
      "differential_evolution step 13: f(x)= 299620\n",
      "differential_evolution step 14: f(x)= 295339\n",
      "differential_evolution step 15: f(x)= 169156\n",
      "differential_evolution step 16: f(x)= 169156\n",
      "differential_evolution step 17: f(x)= 169156\n",
      "differential_evolution step 18: f(x)= 146247\n",
      "differential_evolution step 19: f(x)= 106289\n",
      "differential_evolution step 20: f(x)= 19527.6\n",
      "differential_evolution step 21: f(x)= 19527.6\n",
      "differential_evolution step 22: f(x)= 13787.7\n",
      "differential_evolution step 23: f(x)= 13787.7\n",
      "differential_evolution step 24: f(x)= 13787.7\n",
      "differential_evolution step 25: f(x)= 13787.7\n",
      "differential_evolution step 26: f(x)= 11201.1\n",
      "differential_evolution step 27: f(x)= 11201.1\n",
      "differential_evolution step 28: f(x)= 8137.54\n",
      "differential_evolution step 29: f(x)= 5571.64\n",
      "differential_evolution step 30: f(x)= 5259.19\n",
      "differential_evolution step 31: f(x)= 4545.31\n",
      "differential_evolution step 32: f(x)= 4247.56\n",
      "differential_evolution step 33: f(x)= 4247.56\n",
      "differential_evolution step 34: f(x)= 4086.36\n",
      "differential_evolution step 35: f(x)= 3886.8\n",
      "differential_evolution step 36: f(x)= 3886.8\n",
      "differential_evolution step 37: f(x)= 3886.8\n",
      "differential_evolution step 38: f(x)= 3886.8\n",
      "differential_evolution step 39: f(x)= 3886.8\n",
      "differential_evolution step 40: f(x)= 3886.8\n",
      "differential_evolution step 41: f(x)= 3886.8\n",
      "differential_evolution step 42: f(x)= 3885.73\n",
      "differential_evolution step 43: f(x)= 3860.4\n",
      "differential_evolution step 44: f(x)= 3853.48\n",
      "differential_evolution step 45: f(x)= 3853.48\n",
      "differential_evolution step 46: f(x)= 3853.48\n",
      "differential_evolution step 47: f(x)= 3853.48\n",
      "differential_evolution step 48: f(x)= 3853.48\n",
      "differential_evolution step 49: f(x)= 3853.48\n",
      "differential_evolution step 50: f(x)= 3852.22\n",
      "differential_evolution step 51: f(x)= 3851.97\n",
      "differential_evolution step 52: f(x)= 3851.33\n",
      "differential_evolution step 53: f(x)= 3851.24\n",
      "differential_evolution step 54: f(x)= 3851.24\n",
      "differential_evolution step 55: f(x)= 3851.12\n",
      "differential_evolution step 56: f(x)= 3851.11\n",
      "differential_evolution step 57: f(x)= 3851.07\n",
      "differential_evolution step 58: f(x)= 3851.07\n",
      "differential_evolution step 59: f(x)= 3851.07\n",
      "differential_evolution step 60: f(x)= 3851.07\n",
      "differential_evolution step 61: f(x)= 3851.07\n",
      "differential_evolution step 62: f(x)= 3851.07\n",
      "differential_evolution step 63: f(x)= 3851.06\n",
      "differential_evolution step 64: f(x)= 3851.06\n",
      "differential_evolution step 65: f(x)= 3851.06\n",
      "differential_evolution step 66: f(x)= 3851.06\n",
      "differential_evolution step 67: f(x)= 3851.06\n",
      "differential_evolution step 68: f(x)= 3851.06\n",
      "differential_evolution step 69: f(x)= 3851.06\n",
      "differential_evolution step 70: f(x)= 3851.06\n",
      "differential_evolution step 71: f(x)= 3851.06\n",
      "differential_evolution step 72: f(x)= 3851.06\n",
      "differential_evolution step 73: f(x)= 3851.06\n",
      "differential_evolution step 74: f(x)= 3851.06\n",
      "differential_evolution step 75: f(x)= 3851.06\n",
      "Chi2_DE : 3851.05540889\n"
     ]
    }
   ],
   "source": [
    "### Fit again\n",
    "your_event.fit(model_2,'DE')\n",
    "\n",
    "your_event.fits[-1].produce_outputs()\n",
    "print 'Chi2_DE :',your_event.fits[-1].outputs.fit_parameters.chichi\n",
    "plt.show()"
   ]
  },
  {
   "cell_type": "markdown",
   "metadata": {},
   "source": [
    "Here we go! \n",
    "\n",
    "\n",
    "You can zoom close to the peak to see what is going on. CLOSE THE FIGURE TO CONTINUE.\n",
    "\n",
    "Let's compare the fitting values with the injected model :"
   ]
  },
  {
   "cell_type": "code",
   "execution_count": 10,
   "metadata": {
    "collapsed": false
   },
   "outputs": [
    {
     "name": "stdout",
     "output_type": "stream",
     "text": [
      "Parameters  Model    Fit      Errors\n",
      "-----------------------------------\n",
      "t_o         79.9309  79.9309  0.00084\n",
      "u_o         0.00826  0.00814  0.00026\n",
      "t_E         10.1171  10.1112  0.03924\n",
      "rho         0.02268  0.02259  0.00012\n",
      "fs_OGLE     2915.76  2917.47  14.6798\n",
      "g_OGLE      0.07195  0.07143  0.00526\n",
      "fs_LCOGT    92936.7  92633.7  619.895\n",
      "g_LCOGT     0.52460  0.53113  0.05117\n"
     ]
    }
   ],
   "source": [
    "print 'Parameters', ' Model','   Fit','     Errors'\n",
    "print '-----------------------------------'\n",
    "print 't_o', '        79.9309 ',str(your_event.fits[-1].outputs.fit_parameters.to)[:7],'',str(your_event.fits[-1].outputs.fit_errors.err_to)[:7] \n",
    "print 'u_o', '        0.00826 ',str(your_event.fits[-1].outputs.fit_parameters.uo)[:7],'',str(your_event.fits[-1].outputs.fit_errors.err_uo)[:7]\n",
    "print 't_E', '        10.1171 ',str(your_event.fits[-1].outputs.fit_parameters.tE)[:7],'',str(your_event.fits[-1].outputs.fit_errors.err_tE)[:7]\n",
    "print 'rho', '        0.02268 ',str(your_event.fits[-1].outputs.fit_parameters.rho)[:7],'',str(your_event.fits[-1].outputs.fit_errors.err_rho)[:7]\n",
    "print 'fs_OGLE', '    2915.76 ',str(your_event.fits[-1].outputs.fit_parameters.fs_OGLE)[:7],'',str(your_event.fits[-1].outputs.fit_errors.err_fs_OGLE)[:7]\n",
    "print 'g_OGLE', '     0.07195 ',str(your_event.fits[-1].outputs.fit_parameters.g_OGLE)[:7],'',str(your_event.fits[-1].outputs.fit_errors.err_g_OGLE)[:7]\n",
    "print 'fs_LCOGT', '   92936.7 ',str(your_event.fits[-1].outputs.fit_parameters.fs_LCOGT)[:7],'',str(your_event.fits[-1].outputs.fit_errors.err_fs_LCOGT)[:7]\n",
    "print 'g_LCOGT', '    0.52460 ',str(your_event.fits[-1].outputs.fit_parameters.g_LCOGT)[:7],'',str(your_event.fits[-1].outputs.fit_errors.err_g_LCOGT)[:7]\n",
    "\n",
    "\n",
    "\n"
   ]
  },
  {
   "cell_type": "markdown",
   "metadata": {},
   "source": [
    "# Bonus Track #\n",
    "What about some MCMC?"
   ]
  },
  {
   "cell_type": "code",
   "execution_count": 11,
   "metadata": {
    "collapsed": false
   },
   "outputs": [
    {
     "name": "stdout",
     "output_type": "stream",
     "text": [
      "Everything is fine, this event can be treat\n",
      "pre MCMC done\n",
      "MCMC preburn done\n",
      "The fitting process is finished now, let produce some outputs....\n"
     ]
    }
   ],
   "source": [
    "### Fit again, but using MCMC now. TAKE A WHILE....Wait until figures pop up.\n",
    "your_event.fit(model_2,'MCMC')\n",
    "print 'The fitting process is finished now, let produce some outputs....'\n",
    "\n",
    "your_event.fits[-1].produce_outputs()\n",
    "\n",
    "plt.show()"
   ]
  },
  {
   "cell_type": "code",
   "execution_count": null,
   "metadata": {
    "collapsed": true
   },
   "outputs": [],
   "source": []
  }
 ],
 "metadata": {
  "celltoolbar": "Edit Metadata",
  "kernelspec": {
   "display_name": "Python 2",
   "language": "python",
   "name": "python2"
  },
  "language_info": {
   "codemirror_mode": {
    "name": "ipython",
    "version": 2
   },
   "file_extension": ".py",
   "mimetype": "text/x-python",
   "name": "python",
   "nbconvert_exporter": "python",
   "pygments_lexer": "ipython2",
   "version": "2.7.11"
  }
 },
 "nbformat": 4,
 "nbformat_minor": 0
}
