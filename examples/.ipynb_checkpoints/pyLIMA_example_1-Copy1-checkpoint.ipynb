{
 "cells": [
  {
   "cell_type": "code",
   "execution_count": 1,
   "metadata": {
    "collapsed": false
   },
   "outputs": [
    {
     "ename": "ImportError",
     "evalue": "No module named pyLIMA",
     "output_type": "error",
     "traceback": [
      "\u001b[1;31m---------------------------------------------------------------------------\u001b[0m",
      "\u001b[1;31mImportError\u001b[0m                               Traceback (most recent call last)",
      "\u001b[1;32m<ipython-input-1-36f038f9767b>\u001b[0m in \u001b[0;36m<module>\u001b[1;34m()\u001b[0m\n\u001b[0;32m     10\u001b[0m \u001b[0msys\u001b[0m\u001b[1;33m.\u001b[0m\u001b[0mpath\u001b[0m\u001b[1;33m.\u001b[0m\u001b[0mappend\u001b[0m\u001b[1;33m(\u001b[0m\u001b[0mlib_path\u001b[0m\u001b[1;33m)\u001b[0m\u001b[1;33m\u001b[0m\u001b[0m\n\u001b[0;32m     11\u001b[0m \u001b[1;33m\u001b[0m\u001b[0m\n\u001b[1;32m---> 12\u001b[1;33m \u001b[1;32mfrom\u001b[0m \u001b[0mpyLIMA\u001b[0m \u001b[1;32mimport\u001b[0m \u001b[0mevent\u001b[0m\u001b[1;33m\u001b[0m\u001b[0m\n\u001b[0m\u001b[0;32m     13\u001b[0m \u001b[1;32mfrom\u001b[0m \u001b[0mpyLIMA\u001b[0m \u001b[1;32mimport\u001b[0m \u001b[0mtelescopes\u001b[0m\u001b[1;33m\u001b[0m\u001b[0m\n\u001b[0;32m     14\u001b[0m \u001b[1;32mfrom\u001b[0m \u001b[0mpyLIMA\u001b[0m \u001b[1;32mimport\u001b[0m \u001b[0mmicrolmodels\u001b[0m\u001b[1;33m\u001b[0m\u001b[0m\n",
      "\u001b[1;31mImportError\u001b[0m: No module named pyLIMA"
     ]
    }
   ],
   "source": [
    "#### Welcome to pyLIMA tutorial! ####\n",
    "# Let's learn how pyLIMA works by fitting an example. #\n",
    "\n",
    "### First import the required libraries\n",
    "\n",
    "import numpy as np\n",
    "import matplotlib.pyplot as plt\n",
    "import os, sys\n",
    "lib_path = os.path.abspath(os.path.join('..', '..', '..', 'lib'))\n",
    "sys.path.append(lib_path)\n",
    "\n",
    "from pyLIMA import event\n",
    "from pyLIMA import telescopes\n",
    "from pyLIMA import microlmodels\n",
    "\n",
    "\n",
    "### Create an event object :\n",
    "\n",
    "your_event = event.Event()\n",
    "your_event.name = 'your choice'\n",
    "your_event.ra = 269.39166666666665 \n",
    "your_event.dec = -29.22083333333333\n",
    "\n",
    "### Now we need some observations. That's good, we obtain some data on two\n",
    "### telescopes. Both are in I band :\n",
    "\n",
    "data_1 = np.loadtxt('./Survey_1.dat')\n",
    "telescope_1 = telescopes.Telescope(name='Survey', camera_filter='I', light_curve=data_1)\n",
    "\n",
    "data_2 = np.loadtxt('./Followup_1.dat')\n",
    "telescope_2 = telescopes.Telescope(name='Followup', camera_filter='I', light_curve=data_2)\n",
    "\n",
    "### Add the telescopes to your event :\n",
    "your_event.telescopes.append(telescope_1)\n",
    "your_event.telescopes.append(telescope_2)\n",
    "\n",
    "### Find the survey telescope :\n",
    "your_event.find_survey('Survey')\n",
    "\n",
    "### Sanity check\n",
    "your_event.check_event()\n",
    "\n",
    "### Construct the model you want to fit. Let's go basic with a PSPL, without second_order effects :\n",
    "Model = microlmodels.MLModels(your_event, 'PSPL', [['None', 0], ['None', 0], ['None', 0], 'None'])\n",
    "\n",
    "### OK let's fit, let's try with the simplest Levenvberg_Marquardt algorithm :\n",
    "your_event.fit(Model,'LM')\n",
    "\n",
    "### Let's see some plots\n",
    "your_event.fits[0].produce_outputs()\n",
    "\n",
    "plt.show()\n",
    "\n",
    "\n",
    "\n"
   ]
  },
  {
   "cell_type": "code",
   "execution_count": null,
   "metadata": {
    "collapsed": true
   },
   "outputs": [],
   "source": []
  }
 ],
 "metadata": {
  "kernelspec": {
   "display_name": "Python 2",
   "language": "python",
   "name": "python2"
  },
  "language_info": {
   "codemirror_mode": {
    "name": "ipython",
    "version": 2
   },
   "file_extension": ".py",
   "mimetype": "text/x-python",
   "name": "python",
   "nbconvert_exporter": "python",
   "pygments_lexer": "ipython2",
   "version": "2.7.11"
  }
 },
 "nbformat": 4,
 "nbformat_minor": 0
}
