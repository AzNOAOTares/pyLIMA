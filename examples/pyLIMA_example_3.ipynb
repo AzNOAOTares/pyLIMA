{
 "cells": [
  {
   "cell_type": "markdown",
   "metadata": {},
   "source": [
    "# Welcome to pyLIMA tutorial! #\n",
    "\n",
    "Let's simulate, and fit back :), some events.\n",
    "\n",
    "# Alpha version, probably gonna change #"
   ]
  },
  {
   "cell_type": "code",
   "execution_count": null,
   "metadata": {
    "collapsed": false
   },
   "outputs": [],
   "source": [
    "## First import the required libraries\n",
    "\n",
    "import numpy as np\n",
    "import matplotlib.pyplot as plt\n",
    "import os, sys\n",
    "lib_path = os.path.abspath(os.path.join('../'))\n",
    "sys.path.append(lib_path)\n",
    "\n",
    "from pyLIMA import microlsimulator"
   ]
  },
  {
   "cell_type": "code",
   "execution_count": null,
   "metadata": {
    "collapsed": false
   },
   "outputs": [],
   "source": [
    "# Create your event, \n",
    "\n",
    "my_own_creation = microlsimulator.simulate_a_microlensing_event('A spectacular double source point lens', ra=270, dec=-30)\n",
    "\n",
    "# Create some telescopes\n",
    "\n",
    "# Name = Survey, altitude = 1000 m, longitude = -109.285399, latitude = -27.130814,filter = 'I',start_obs =2457000,\n",
    "# end_obs = 2458000, sampling = 5, bad_weather_percentage = 10%, moon_windows_avoidance=6, minimum_alt=30)\n",
    "my_survey = microlsimulator.simulate_a_telescope('survey', 0, 0, 0, 'I', 2457000, 2458000, 5,\n",
    "                                 bad_weather_percentage=10.0 / 100, moon_windows_avoidance=6, minimum_alt=30)\n",
    "\n",
    "\n",
    "# Name = 'SAAO_I', altitude = 400 m, longitude = 20.659279, latitude = -32.3959,filter = 'I',start_obs =2457689,\n",
    "# end_obs = 2457730, sampling = 10, bad_weather_percentage = 50%, moon_windows_avoidance=2, minimum_alt=15)\n",
    "my_own_telescope_1 = microlsimulator.simulate_a_telescope('SAAO_I', 400, 20.659279, -32.3959, 'I', 2457689, 2457730, 10,\n",
    "                                        bad_weather_percentage=50.0 / 100, moon_windows_avoidance=2, minimum_alt=15)\n",
    "# Name = 'SAAO_V', altitude = 400 m, longitude = 20.659279, latitude = -32.3959,filter = 'V',start_obs =2457689,\n",
    "# end_obs = 2457730, sampling = 1, bad_weather_percentage = 50%, moon_windows_avoidance=10, minimum_alt=15)\n",
    "my_own_telescope_2 = microlsimulator.simulate_a_telescope('SAAO_V', 400, 20.659279, -32.3959, 'V', 2457689, 2457730, 1,\n",
    "                                        bad_weather_percentage=50.0 / 100, moon_windows_avoidance=10, minimum_alt=15)\n",
    "# Add them to your event\n",
    "my_own_creation.telescopes.append(my_survey)\n",
    "my_own_creation.telescopes.append(my_own_telescope_1)\n",
    "my_own_creation.telescopes.append(my_own_telescope_2)\n",
    "\n",
    "# What model you want? Let's have DSPL!\n",
    "my_own_model = microlsimulator.simulate_a_microlensing_model(my_own_creation, model='DSPL', parallax=['None', 0.0],\n",
    "                                             xallarap=['None', 0.0],\n",
    "                                             orbital_motion=['None', 0.0], source_spots='None')\n",
    "\n",
    "# Find some model parameters\n",
    "my_own_parameters = microlsimulator.simulate_microlensing_model_parameters(my_own_model)\n",
    "\n",
    "# Which source magnitude? Which blending?\n",
    "\n",
    "my_own_flux_parameters = microlsimulator.simulate_fluxes_parameters(my_own_creation.telescopes)\n",
    "my_own_parameters += my_own_flux_parameters\n",
    "\n",
    "# Transform into pyLIMA standards\n",
    "pyLIMA_parameters = my_own_model.compute_pyLIMA_parameters(my_own_parameters)\n",
    "\n",
    "# update the lightcurves in your event :\n",
    "microlsimulator.simulate_lightcurve_flux(my_own_model, pyLIMA_parameters,  red_noise_apply='Yes')\n",
    "\n",
    "\n",
    "#### Plot it!\n",
    "\n",
    "for telescope in my_own_creation.telescopes:\n",
    "    plt.errorbar(telescope.lightcurve_magnitude[:, 0], telescope.lightcurve_magnitude[:, 1],\n",
    "                 yerr=telescope.lightcurve_magnitude[:, 2], fmt='.')\n",
    "\n",
    "for key in my_own_model.model_dictionnary.keys():\n",
    "    \n",
    "    print key,my_own_parameters[my_own_model.model_dictionnary[key]]\n",
    "\n",
    "plt.gca().invert_yaxis()\n",
    "plt.show()"
   ]
  },
  {
   "cell_type": "markdown",
   "metadata": {
    "collapsed": true
   },
   "source": [
    "Let's try to fit this now!"
   ]
  },
  {
   "cell_type": "code",
   "execution_count": null,
   "metadata": {
    "collapsed": false
   },
   "outputs": [],
   "source": [
    "from pyLIMA import microlmodels\n",
    "\n",
    "model_1 = microlmodels.create_model('PSPL', my_own_creation)\n",
    "my_own_creation.fit(model_1,'DE')\n",
    "\n",
    "model_2 = microlmodels.create_model('DSPL', my_own_creation)\n",
    "my_own_creation.fit(model_2,'DE')\n",
    "\n",
    "my_own_creation.fits[0].produce_outputs()\n",
    "my_own_creation.fits[1].produce_outputs()\n",
    "\n",
    "print my_own_creation.fits[0].model.model_type,'Chi2_LM :',my_own_creation.fits[0].outputs.fit_parameters.chichi\n",
    "print my_own_creation.fits[1].model.model_type,'Chi2_LM :',my_own_creation.fits[1].outputs.fit_parameters.chichi\n",
    "\n",
    "plt.show()"
   ]
  },
  {
   "cell_type": "code",
   "execution_count": null,
   "metadata": {
    "collapsed": true
   },
   "outputs": [],
   "source": []
  },
  {
   "cell_type": "code",
   "execution_count": null,
   "metadata": {
    "collapsed": true
   },
   "outputs": [],
   "source": []
  }
 ],
 "metadata": {
  "kernelspec": {
   "display_name": "Python 2",
   "language": "python",
   "name": "python2"
  },
  "language_info": {
   "codemirror_mode": {
    "name": "ipython",
    "version": 2
   },
   "file_extension": ".py",
   "mimetype": "text/x-python",
   "name": "python",
   "nbconvert_exporter": "python",
   "pygments_lexer": "ipython2",
   "version": "2.7.11"
  }
 },
 "nbformat": 4,
 "nbformat_minor": 0
}
